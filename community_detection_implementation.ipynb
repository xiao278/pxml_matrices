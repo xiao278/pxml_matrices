{
 "cells": [
  {
   "cell_type": "code",
   "execution_count": 2,
   "metadata": {},
   "outputs": [],
   "source": [
    "import numpy as np\n",
    "import pandas as pd\n",
    "import rustworkx as rx\n",
    "import networkx as nx\n",
    "import matplotlib.pyplot as plt\n",
    "import ipywidgets as widgets"
   ]
  },
  {
   "cell_type": "code",
   "execution_count": 3,
   "metadata": {},
   "outputs": [],
   "source": [
    "def draw_graph(A:np.ndarray, group_labels=None):\n",
    "    n = A.shape[0]\n",
    "    G = nx.from_numpy_array(A, create_using=nx.Graph)\n",
    "    pos = nx.spring_layout(G)\n",
    "    plt.figure(figsize=(6, 6))\n",
    "    if group_labels is None:\n",
    "        nx.draw(G, pos=pos, with_labels=False, node_color=\"lightblue\", edge_color=\"black\")\n",
    "    else:\n",
    "        unique_groups = list(set(group_labels))\n",
    "        colors = plt.cm.get_cmap(\"tab10\", len(unique_groups))\n",
    "        color_map = {group: colors(i) for i, group in enumerate(unique_groups)}\n",
    "        node_colors = [color_map[group_labels[node]] for node in G.nodes]\n",
    "        print(node_colors)\n",
    "        nx.draw(G, pos=pos, with_labels=False, node_color=node_colors, edge_color=\"black\")"
   ]
  },
  {
   "cell_type": "markdown",
   "metadata": {},
   "source": [
    "# graph structure"
   ]
  },
  {
   "cell_type": "code",
   "execution_count": 4,
   "metadata": {},
   "outputs": [
    {
     "data": {
      "image/png": "[encoded data removed]",
      "text/plain": [
       "<Figure size 600x600 with 1 Axes>"
      ]
     },
     "metadata": {},
     "output_type": "display_data"
    }
   ],
   "source": [
    "k = 2\n",
    "\n",
    "AL = {\n",
    "    0: [1,3],\n",
    "    1: [0,2],\n",
    "    2: [1,3],\n",
    "    3: [0,2,4,6],\n",
    "    4: [3,5],\n",
    "    5: [4,6],\n",
    "    6: [3,5],\n",
    "}\n",
    "\n",
    "# Get the adjacency matrix as a NumPy array\n",
    "G = nx.from_dict_of_lists(AL)\n",
    "A = nx.to_numpy_array(G)\n",
    "D = np.diag(np.sum(A, axis=0)) #find the degree of each node\n",
    "m, n = A.shape\n",
    "draw_graph(A)"
   ]
  },
  {
   "cell_type": "markdown",
   "metadata": {},
   "source": [
    "# Doing an SVD decomposition on the |L|= D + A"
   ]
  },
  {
   "cell_type": "code",
   "execution_count": 6,
   "metadata": {},
   "outputs": [],
   "source": [
    "L_ABS = D + A\n",
    "U, S, V = np.linalg.svd(L_ABS)\n",
    "S = np.diag(S)\n",
    "U_k = U[:,0:k]\n",
    "S_k = S[0:k,0:k]\n",
    "V_k = V[0:k,:]"
   ]
  },
  {
   "cell_type": "code",
   "execution_count": 7,
   "metadata": {},
   "outputs": [
    {
     "name": "stdout",
     "output_type": "stream",
     "text": [
      "[[2. 1. 0. 1. 0. 0. 0.]\n",
      " [1. 2. 1. 0. 0. 0. 0.]\n",
      " [0. 1. 2. 1. 0. 0. 0.]\n",
      " [1. 0. 1. 4. 1. 0. 1.]\n",
      " [0. 0. 0. 1. 2. 1. 0.]\n",
      " [0. 0. 0. 0. 1. 2. 1.]\n",
      " [0. 0. 0. 1. 0. 1. 2.]]\n"
     ]
    }
   ],
   "source": [
    "print(L_ABS)"
   ]
  },
  {
   "cell_type": "markdown",
   "metadata": {},
   "source": [
    "# Compute cosine matrix"
   ]
  },
  {
   "cell_type": "code",
   "execution_count": 87,
   "metadata": {},
   "outputs": [
    {
     "name": "stdout",
     "output_type": "stream",
     "text": [
      "[[ 1.          0.91354747  1.          0.78311587  0.22654092 -0.18920188\n",
      "   0.22654092]\n",
      " [ 0.91354747  1.          0.91354747  0.46247664 -0.18920188 -0.57223071\n",
      "  -0.18920188]\n",
      " [ 1.          0.91354747  1.          0.78311587  0.22654092 -0.18920188\n",
      "   0.22654092]\n",
      " [ 0.78311587  0.46247664  0.78311587  1.          0.78311587  0.46247664\n",
      "   0.78311587]\n",
      " [ 0.22654092 -0.18920188  0.22654092  0.78311587  1.          0.91354747\n",
      "   1.        ]\n",
      " [-0.18920188 -0.57223071 -0.18920188  0.46247664  0.91354747  1.\n",
      "   0.91354747]\n",
      " [ 0.22654092 -0.18920188  0.22654092  0.78311587  1.          0.91354747\n",
      "   1.        ]]\n"
     ]
    }
   ],
   "source": [
    "CM = np.zeros((m,n))\n",
    "vectors = S_k @ V_k\n",
    "for i in range(0,vectors.shape[1]):\n",
    "    for j in range(i+1, vectors.shape[1]):\n",
    "        u = vectors[:,i]\n",
    "        v = vectors[:,j]\n",
    "        cosine = np.dot(u, v) / (np.linalg.norm(u) * np.linalg.norm(v))\n",
    "        CM[i,j] = cosine\n",
    "        CM[j,i] = cosine\n",
    "np.fill_diagonal(CM, 1)\n",
    "\n",
    "print(CM)"
   ]
  },
  {
   "cell_type": "markdown",
   "metadata": {},
   "source": [
    "# Reorder cosine matrix"
   ]
  },
  {
   "cell_type": "code",
   "execution_count": null,
   "metadata": {},
   "outputs": [
    {
     "name": "stdout",
     "output_type": "stream",
     "text": [
      "[2, 0, 1, 3, 4, 6, 5]\n"
     ]
    },
    {
     "data": {
      "text/plain": [
       "array([[ 1.        ,  1.        ,  0.91354747,  0.78311587,  0.22654092,\n",
       "         0.22654092, -0.18920188],\n",
       "       [ 1.        ,  1.        ,  0.91354747,  0.78311587,  0.22654092,\n",
       "         0.22654092, -0.18920188],\n",
       "       [ 0.91354747,  0.91354747,  1.        ,  0.46247664, -0.18920188,\n",
       "        -0.18920188, -0.57223071],\n",
       "       [ 0.78311587,  0.78311587,  0.46247664,  1.        ,  0.78311587,\n",
       "         0.78311587,  0.46247664],\n",
       "       [ 0.22654092,  0.22654092, -0.18920188,  0.78311587,  1.        ,\n",
       "         1.        ,  0.91354747],\n",
       "       [ 0.22654092,  0.22654092, -0.18920188,  0.78311587,  1.        ,\n",
       "         1.        ,  0.91354747],\n",
       "       [-0.18920188, -0.18920188, -0.57223071,  0.46247664,  0.91354747,\n",
       "         0.91354747,  1.        ]])"
      ]
     },
     "execution_count": 105,
     "metadata": {},
     "output_type": "execute_result"
    }
   ],
   "source": [
    "INDEX = [] # global reordering index\n",
    "CM_COPY = CM.copy()\n",
    "indices = list(range(0,CM.shape[1]))\n",
    "while(len(indices) > 1):\n",
    "    # sort by cosine similarity\n",
    "    similarity_list = CM_COPY[0,:]\n",
    "    new_indices = np.argsort(similarity_list)[::-1]\n",
    "    \n",
    "    # rearrange matrix\n",
    "    indices = [indices[i] for i in new_indices]\n",
    "    CM_COPY = CM_COPY[np.ix_(new_indices,new_indices)]\n",
    "\n",
    "    # remove and update\n",
    "    INDEX.append(indices[0])\n",
    "    indices.pop(0)\n",
    "    CM_COPY = CM_COPY[1:,1:]\n",
    "INDEX.append(indices[0])\n",
    "del CM_COPY\n",
    "print(INDEX)\n",
    "CM_REORDERED = CM[np.ix_(INDEX, INDEX)]\n",
    "CM_REORDERED\n",
    "\n",
    "# this only mismatches the paper's example because vertex 2 is exactly similar to vertex 0 so their ordering doesnt matter"
   ]
  },
  {
   "cell_type": "code",
   "execution_count": 95,
   "metadata": {},
   "outputs": [
    {
     "data": {
      "image/png": "[encoded data removed]",
      "text/plain": [
       "<Figure size 640x480 with 2 Axes>"
      ]
     },
     "metadata": {},
     "output_type": "display_data"
    }
   ],
   "source": [
    "import matplotlib.pyplot as plt\n",
    "\n",
    "plt.imshow(CM_REORDERED, cmap='viridis')\n",
    "plt.colorbar()\n",
    "plt.show()"
   ]
  }
 ],
 "metadata": {
  "kernelspec": {
   "display_name": "Python 3 (ipykernel)",
   "language": "python",
   "name": "python3"
  },
  "language_info": {
   "codemirror_mode": {
    "name": "ipython",
    "version": 3
   },
   "file_extension": ".py",
   "mimetype": "text/x-python",
   "name": "python",
   "nbconvert_exporter": "python",
   "pygments_lexer": "ipython3",
   "version": "3.13.1"
  }
 },
 "nbformat": 4,
 "nbformat_minor": 4
}

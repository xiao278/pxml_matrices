{
 "cells": [
  {
   "cell_type": "code",
   "execution_count": 10,
   "metadata": {},
   "outputs": [],
   "source": [
    "import numpy as np\n",
    "import pandas as pd\n",
    "import rustworkx as rx\n",
    "import networkx as nx\n",
    "import matplotlib.pyplot as plt\n",
    "import ipywidgets as widgets\n",
    "from tests_and_graphing import *"
   ]
  },
  {
   "cell_type": "code",
   "execution_count": 11,
   "metadata": {},
   "outputs": [],
   "source": [
    "def draw_graph(A:np.ndarray, group_labels=None):\n",
    "    n = A.shape[0]\n",
    "    G = nx.from_numpy_array(A, create_using=nx.Graph)\n",
    "    pos = nx.spring_layout(G)\n",
    "    plt.figure(figsize=(6, 6))\n",
    "    if group_labels is None:\n",
    "        nx.draw(G, pos=pos, with_labels=False, node_color=\"lightblue\", edge_color=\"black\")\n",
    "    else:\n",
    "        unique_groups = list(set(group_labels))\n",
    "        colors = plt.cm.get_cmap(\"tab10\", len(unique_groups))\n",
    "        color_map = {group: colors(i) for i, group in enumerate(unique_groups)}\n",
    "        node_colors = [color_map[group_labels[node]] for node in G.nodes]\n",
    "        print(node_colors)\n",
    "        nx.draw(G, pos=pos, with_labels=False, node_color=node_colors, edge_color=\"black\")"
   ]
  },
  {
   "cell_type": "markdown",
   "metadata": {},
   "source": [
    "# graph structure"
   ]
  },
  {
   "cell_type": "code",
   "execution_count": null,
   "metadata": {},
   "outputs": [
    {
     "data": {
      "image/png": "[encoded data removed]",
      "text/plain": [
       "<Figure size 600x600 with 1 Axes>"
      ]
     },
     "metadata": {},
     "output_type": "display_data"
    }
   ],
   "source": [
    "k = 2\n",
    "\n",
    "AL = {\n",
    "    0: [1,2,3,6],\n",
    "    1: [0,2],\n",
    "    2: [0,1],\n",
    "    3: [4,5,0,6],\n",
    "    4: [3,5],\n",
    "    5: [3,4],\n",
    "    6: [7,8,0,3],\n",
    "    7: [6,8],\n",
    "    8: [6,7]\n",
    "}\n",
    "\n",
    "# Get the adjacency matrix as a NumPy array\n",
    "G = nx.from_dict_of_lists(AL)\n",
    "A = nx.to_numpy_array(G)\n",
    "D = np.diag(np.sum(A, axis=0)) #find the degree of each node\n",
    "m, n = A.shape\n",
    "draw_graph(A)"
   ]
  },
  {
   "cell_type": "markdown",
   "metadata": {},
   "source": [
    "# Doing an SVD decomposition on the |L|= D + A"
   ]
  },
  {
   "cell_type": "code",
   "execution_count": 13,
   "metadata": {},
   "outputs": [
    {
     "name": "stdout",
     "output_type": "stream",
     "text": [
      "[[ 0.  0.  0.  0.  0.  0.  0.  0.]\n",
      " [ 0.  0.  0.  0.  0.  0.  0.  0.]\n",
      " [ 0.  0.  2.  1.  1.  1.  0.  0.]\n",
      " [ 0.  0.  1.  1.  1.  0. -0. -0.]\n",
      " [ 0.  0.  1.  1.  1.  0. -0. -0.]\n",
      " [ 0.  0.  1.  0.  0.  2.  1.  1.]\n",
      " [ 0.  0.  0. -0. -0.  2.  1.  1.]\n",
      " [ 0.  0.  0. -0. -0.  2.  1.  1.]]\n",
      "[[ 0.     0.   ]\n",
      " [ 0.     0.   ]\n",
      " [-0.577  0.408]\n",
      " [-0.289  0.408]\n",
      " [-0.289  0.408]\n",
      " [-0.577 -0.408]\n",
      " [-0.289 -0.408]\n",
      " [-0.289 -0.408]]\n",
      "[[-0.    -0.    -0.577 -0.289 -0.289 -0.577 -0.289 -0.289]\n",
      " [ 0.     0.     0.408  0.408  0.408 -0.408 -0.408 -0.408]]\n",
      "[[-0.    -0.    -0.577 -0.289 -0.289 -0.577 -0.289 -0.289]\n",
      " [ 0.     0.     0.408  0.408  0.408 -0.408 -0.408 -0.408]\n",
      " [-0.    -0.     0.408 -0.408 -0.408  0.408 -0.408 -0.408]\n",
      " [-0.707 -0.707 -0.    -0.    -0.     0.     0.     0.   ]\n",
      " [-0.    -0.     0.577 -0.289 -0.289 -0.577  0.289  0.289]\n",
      " [ 0.     0.     0.     0.7   -0.7    0.    -0.1    0.1  ]\n",
      " [ 0.     0.     0.    -0.1    0.1   -0.    -0.7    0.7  ]\n",
      " [-0.707  0.707  0.     0.     0.     0.     0.     0.   ]]\n"
     ]
    }
   ],
   "source": [
    "L_ABS = D + A\n",
    "U, S, V = np.linalg.svd(L_ABS)\n",
    "S = np.diag(S)\n",
    "U_k = U[:,0:k]\n",
    "S_k = S[0:k,0:k]\n",
    "V_k = V[:k,:]\n",
    "\n",
    "print(np.round(U_k @ S_k @ V_k))\n",
    "print(np.round(U_k, decimals = 3))\n",
    "print(np.round(V_k, decimals=3))\n",
    "print(np.round(V, decimals = 3))"
   ]
  },
  {
   "cell_type": "code",
   "execution_count": 14,
   "metadata": {},
   "outputs": [
    {
     "name": "stdout",
     "output_type": "stream",
     "text": [
      "[[1. 1. 0. 0. 0. 0. 0. 0.]\n",
      " [1. 1. 0. 0. 0. 0. 0. 0.]\n",
      " [0. 0. 3. 1. 1. 1. 0. 0.]\n",
      " [0. 0. 1. 2. 1. 0. 0. 0.]\n",
      " [0. 0. 1. 1. 2. 0. 0. 0.]\n",
      " [0. 0. 1. 0. 0. 3. 1. 1.]\n",
      " [0. 0. 0. 0. 0. 1. 2. 1.]\n",
      " [0. 0. 0. 0. 0. 1. 1. 2.]]\n"
     ]
    }
   ],
   "source": [
    "print(L_ABS)"
   ]
  },
  {
   "cell_type": "markdown",
   "metadata": {},
   "source": [
    "# Compute cosine matrix"
   ]
  },
  {
   "cell_type": "code",
   "execution_count": 15,
   "metadata": {},
   "outputs": [
    {
     "name": "stdout",
     "output_type": "stream",
     "text": [
      "[[ 0.     0.     0.     0.     0.     0.     0.     0.   ]\n",
      " [ 0.     0.     0.     0.     0.     0.     0.     0.   ]\n",
      " [ 0.     0.     0.5    0.333  0.333  0.167  0.     0.   ]\n",
      " [ 0.     0.     0.333  0.25   0.25  -0.    -0.083 -0.083]\n",
      " [ 0.     0.     0.333  0.25   0.25  -0.    -0.083 -0.083]\n",
      " [ 0.     0.     0.167 -0.    -0.     0.5    0.333  0.333]\n",
      " [ 0.     0.    -0.    -0.083 -0.083  0.333  0.25   0.25 ]\n",
      " [ 0.     0.    -0.    -0.083 -0.083  0.333  0.25   0.25 ]]\n"
     ]
    }
   ],
   "source": [
    "CM = cosine_similarity(L_ABS, k)\n",
    "print(np.round(CM, decimals = 3))\n"
   ]
  },
  {
   "cell_type": "markdown",
   "metadata": {},
   "source": [
    "# Reorder cosine matrix"
   ]
  },
  {
   "cell_type": "code",
   "execution_count": 16,
   "metadata": {},
   "outputs": [
    {
     "name": "stdout",
     "output_type": "stream",
     "text": [
      "[7, 5, 6, 3, 2, 4, 0, 1]\n"
     ]
    },
    {
     "data": {
      "text/plain": [
       "array([[ 2.50000000e-01,  3.33333333e-01,  2.50000000e-01,\n",
       "        -8.33333333e-02, -5.55111512e-17, -8.33333333e-02,\n",
       "         0.00000000e+00,  0.00000000e+00],\n",
       "       [ 3.33333333e-01,  5.00000000e-01,  3.33333333e-01,\n",
       "        -1.38777878e-16,  1.66666667e-01, -5.55111512e-17,\n",
       "         0.00000000e+00,  0.00000000e+00],\n",
       "       [ 2.50000000e-01,  3.33333333e-01,  2.50000000e-01,\n",
       "        -8.33333333e-02, -5.55111512e-17, -8.33333333e-02,\n",
       "         0.00000000e+00,  0.00000000e+00],\n",
       "       [-8.33333333e-02, -5.55111512e-17, -8.33333333e-02,\n",
       "         2.50000000e-01,  3.33333333e-01,  2.50000000e-01,\n",
       "         0.00000000e+00,  0.00000000e+00],\n",
       "       [ 5.55111512e-17,  1.66666667e-01,  5.55111512e-17,\n",
       "         3.33333333e-01,  5.00000000e-01,  3.33333333e-01,\n",
       "         0.00000000e+00,  0.00000000e+00],\n",
       "       [-8.33333333e-02, -1.38777878e-16, -8.33333333e-02,\n",
       "         2.50000000e-01,  3.33333333e-01,  2.50000000e-01,\n",
       "         0.00000000e+00,  0.00000000e+00],\n",
       "       [ 0.00000000e+00,  0.00000000e+00,  0.00000000e+00,\n",
       "         0.00000000e+00,  0.00000000e+00,  0.00000000e+00,\n",
       "         0.00000000e+00,  0.00000000e+00],\n",
       "       [ 0.00000000e+00,  0.00000000e+00,  0.00000000e+00,\n",
       "         0.00000000e+00,  0.00000000e+00,  0.00000000e+00,\n",
       "         0.00000000e+00,  0.00000000e+00]])"
      ]
     },
     "execution_count": 16,
     "metadata": {},
     "output_type": "execute_result"
    }
   ],
   "source": [
    "INDEX = [] # global reordering index\n",
    "CM_COPY = CM.copy()\n",
    "indices = list(range(0,CM.shape[1]))\n",
    "while(len(indices) > 1):\n",
    "    # sort by cosine similarity\n",
    "    similarity_list = CM_COPY[0,:]\n",
    "    new_indices = np.argsort(similarity_list)[::-1]\n",
    "    \n",
    "    # rearrange matrix\n",
    "    indices = [indices[i] for i in new_indices]\n",
    "    CM_COPY = CM_COPY[np.ix_(new_indices,new_indices)]\n",
    "\n",
    "    # remove and update\n",
    "    INDEX.append(indices[0])\n",
    "    indices.pop(0)\n",
    "    CM_COPY = CM_COPY[1:,1:]\n",
    "INDEX.append(indices[0])\n",
    "del CM_COPY\n",
    "print(INDEX)\n",
    "CM_REORDERED = CM[np.ix_(INDEX, INDEX)]\n",
    "CM_REORDERED\n",
    "\n",
    "# this only mismatches the paper's example because vertex 2 is exactly similar to vertex 0 so their ordering doesnt matter"
   ]
  },
  {
   "cell_type": "code",
   "execution_count": 17,
   "metadata": {},
   "outputs": [
    {
     "data": {
      "image/png": "[encoded data removed]",
      "text/plain": [
       "<Figure size 640x480 with 2 Axes>"
      ]
     },
     "metadata": {},
     "output_type": "display_data"
    }
   ],
   "source": [
    "import matplotlib.pyplot as plt\n",
    "\n",
    "plt.imshow(CM_REORDERED, cmap='viridis')\n",
    "plt.colorbar()\n",
    "plt.show()"
   ]
  },
  {
   "cell_type": "code",
   "execution_count": 18,
   "metadata": {},
   "outputs": [
    {
     "name": "stdout",
     "output_type": "stream",
     "text": [
      "[slice(0, 1, None), slice(1, 2, None), slice(2, 3, None), slice(3, 4, None), slice(4, 5, None), slice(5, 6, None), slice(6, 7, None), slice(7, 8, None)]\n",
      "[np.float64(0.2499999999999999), np.float64(0.4999999999999999), np.float64(0.2499999999999999), np.float64(0.24999999999999978), np.float64(0.4999999999999998), np.float64(0.25), np.float64(0.0), np.float64(0.0)]\n",
      "[np.float64(0.2499999999999999), np.float64(0.4999999999999999), np.float64(0.2499999999999999), np.float64(0.24999999999999978), np.float64(0.4999999999999998), np.float64(0.25), np.float64(0.0), np.float64(0.0)]\n"
     ]
    }
   ],
   "source": [
    "print(community_detection(CM_REORDERED, .9))\n",
    "\n",
    "print(community_strengths(CM_REORDERED, .9, order = 'fro'))\n",
    "\n",
    "print(community_strengths(CM_REORDERED, .9, order = 2))"
   ]
  }
 ],
 "metadata": {
  "kernelspec": {
   "display_name": "matrixresearch",
   "language": "python",
   "name": "python3"
  },
  "language_info": {
   "codemirror_mode": {
    "name": "ipython",
    "version": 3
   },
   "file_extension": ".py",
   "mimetype": "text/x-python",
   "name": "python",
   "nbconvert_exporter": "python",
   "pygments_lexer": "ipython3",
   "version": "3.13.1"
  }
 },
 "nbformat": 4,
 "nbformat_minor": 4
}

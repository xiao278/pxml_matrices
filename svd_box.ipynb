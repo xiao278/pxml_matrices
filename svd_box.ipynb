{
 "cells": [
  {
   "cell_type": "markdown",
   "id": "476e001c-80db-445b-9332-6b6e1796616d",
   "metadata": {},
   "source": [
    "# SVD Out-Of-The-Box\n",
    "\n",
    "### The Point of this notebook is to play with other forms of matrices and see how it destroys information for certain matrices\n",
    "\n",
    "### Matrices I hope to test:\n",
    "\n",
    "- Symmetric, Skew Symmetric (Where Spectral Decomposition and QR will probably prove more efficient)\n",
    "- Sparse Large Matrices\n",
    "- Weather Data"
   ]
  },
  {
   "cell_type": "markdown",
   "id": "f6cc0e84-fa3d-4f8c-8601-7f1fe143e99b",
   "metadata": {},
   "source": [
    "## Initial Code"
   ]
  },
  {
   "cell_type": "code",
   "execution_count": 19,
   "id": "5c910a87-be6e-40ef-a95d-2d352be67d9b",
   "metadata": {},
   "outputs": [],
   "source": [
    "import numpy as np\n",
    "from matplotlib import pyplot as plt\n",
    "\n",
    "from svd_test import svd"
   ]
  },
  {
   "cell_type": "code",
   "execution_count": 27,
   "id": "f9943d24-06db-4e6a-8c1d-5a887c0c8bf0",
   "metadata": {},
   "outputs": [],
   "source": [
    "def multiplot(A, k):\n",
    "    \n",
    "    #Plot A\n",
    "    plt.figure(figsize=(2,2))\n",
    "    plt.imshow(A, cmap='gray')\n",
    "    plt.title(\"Original\")\n",
    "    plt.axis('off')\n",
    "    plt.show()\n",
    "\n",
    "    U, S, Vh = svd(A,k)\n",
    "\n",
    "    \n",
    "    #Plot Singular Values of A\n",
    "\n",
    "    fig, axs = plt.subplots(2,2)\n",
    "    #axs[0,0].figure(figsize=(1,1))\n",
    "    axs[0,0].imshow(U, cmap='gray')\n",
    "    axs[0,0].set_title('U')\n",
    "    axs[0,0].axis('off')\n",
    "\n",
    "    #axs[0,1].figure(figsize=(1,1))\n",
    "    axs[0,1].imshow(S, cmap='gray')\n",
    "    axs[0,1].set_title('S')\n",
    "    axs[0,1].axis('off')\n",
    "\n",
    "    #axs[1,0].figure(figsize=(1,1))\n",
    "    axs[1,0].imshow(Vh, cmap='gray')\n",
    "    axs[1,0].set_title('Vh')\n",
    "    axs[1,0].axis('off')\n",
    "\n",
    "    #Plot SVD Approximation of A\n",
    "    #axs[1,1].figure(figsize=(1,1))\n",
    "    axs[1,1].imshow(U @ S @ Vh.T, cmap='gray')\n",
    "    axs[1,1].set_title(\"SVD\")\n",
    "    axs[1,1].axis('off')\n",
    "\n",
    "    plt.show()\n",
    "\n",
    "    \n",
    "\n",
    "    "
   ]
  },
  {
   "cell_type": "code",
   "execution_count": 21,
   "id": "523b5681-4400-44fc-84c0-cce4fe929e81",
   "metadata": {},
   "outputs": [
    {
     "data": {
      "text/plain": [
       "'\\ntall_binary = np.random.randint(2, size = (1000, 500))\\n\\nwide_binary = np.random.randint(2, size = (500, 1000))\\n\\nsquare_binary = np.random.randint(2, size = (1000, 1000))\\n\\nsmall_square_binary = np.random.randint(2, size = (10,10))\\n'"
      ]
     },
     "execution_count": 21,
     "metadata": {},
     "output_type": "execute_result"
    }
   ],
   "source": [
    "'''\n",
    "tall_binary = np.random.randint(2, size = (1000, 500))\n",
    "\n",
    "wide_binary = np.random.randint(2, size = (500, 1000))\n",
    "\n",
    "square_binary = np.random.randint(2, size = (1000, 1000))\n",
    "\n",
    "small_square_binary = np.random.randint(2, size = (10,10))\n",
    "'''"
   ]
  },
  {
   "cell_type": "code",
   "execution_count": 22,
   "id": "c2a8e485-8f1f-49f0-810d-6d46ec1b3dc0",
   "metadata": {
    "scrolled": true
   },
   "outputs": [
    {
     "data": {
      "text/plain": [
       "\"\\nplt.figure(figsize=(1, 1))\\nplt.imshow(small_square_binary, cmap='gray')\\nplt.axis('off')\\nplt.show()\\n\""
      ]
     },
     "execution_count": 22,
     "metadata": {},
     "output_type": "execute_result"
    }
   ],
   "source": [
    "'''\n",
    "plt.figure(figsize=(1, 1))\n",
    "plt.imshow(small_square_binary, cmap='gray')\n",
    "plt.axis('off')\n",
    "plt.show()\n",
    "'''"
   ]
  },
  {
   "cell_type": "code",
   "execution_count": 30,
   "id": "da94b281-4edd-4169-a857-e990c02ad7c4",
   "metadata": {},
   "outputs": [
    {
     "data": {
      "image/png": "[encoded data removed]",
      "text/plain": [
       "<Figure size 200x200 with 1 Axes>"
      ]
     },
     "metadata": {},
     "output_type": "display_data"
    },
    {
     "data": {
      "image/png": "[encoded data removed]",
      "text/plain": [
       "<Figure size 640x480 with 4 Axes>"
      ]
     },
     "metadata": {},
     "output_type": "display_data"
    }
   ],
   "source": [
    "small_square_binary = np.random.randint(2, size = (10,10))\n",
    "multiplot(small_square_binary, 8)"
   ]
  },
  {
   "cell_type": "code",
   "execution_count": 25,
   "id": "3839d4f3-e039-477a-a3c3-5b019fe99de6",
   "metadata": {},
   "outputs": [
    {
     "name": "stdout",
     "output_type": "stream",
     "text": [
      "[[0 0 1 1 0 1 0 0 0 0]\n",
      " [0 0 0 0 0 1 0 0 1 1]\n",
      " [1 1 1 0 0 1 0 1 1 0]\n",
      " [1 1 0 1 1 0 1 0 1 1]\n",
      " [0 1 0 1 0 0 0 1 0 0]\n",
      " [0 1 1 0 1 0 1 1 0 0]\n",
      " [1 1 0 1 0 1 0 0 1 0]\n",
      " [1 0 1 1 0 1 0 1 0 1]\n",
      " [1 0 1 1 0 1 1 0 1 0]\n",
      " [1 0 1 0 0 0 1 0 0 0]]\n"
     ]
    }
   ],
   "source": [
    "print(small_square_binary.round(decimals = 2))"
   ]
  },
  {
   "cell_type": "code",
   "execution_count": 26,
   "id": "31ac6420-01db-4737-b4bd-e8650f3c0485",
   "metadata": {},
   "outputs": [
    {
     "name": "stdout",
     "output_type": "stream",
     "text": [
      "[[3 1 2 1 1 1 2 3 3 1]\n",
      " [1 3 2 2 0 0 2 2 2 0]\n",
      " [2 2 6 3 2 3 4 4 4 2]\n",
      " [1 2 3 7 2 3 4 3 4 2]\n",
      " [1 0 2 2 3 2 2 2 1 0]\n",
      " [1 0 3 3 2 5 1 2 2 2]\n",
      " [2 2 4 4 2 1 5 3 4 1]\n",
      " [3 2 4 3 2 2 3 6 4 2]\n",
      " [3 2 4 4 1 2 4 4 6 3]\n",
      " [1 0 2 2 0 2 1 2 3 3]]\n",
      "[[6 3 4 4 1 4 3 2 4 2]\n",
      " [3 5 2 3 2 2 2 3 3 1]\n",
      " [4 2 6 3 1 4 3 3 2 1]\n",
      " [4 3 3 6 1 4 2 2 3 2]\n",
      " [1 2 1 1 2 0 2 1 1 1]\n",
      " [4 2 4 4 0 6 1 2 4 2]\n",
      " [3 2 3 2 2 1 4 1 2 1]\n",
      " [2 3 3 2 1 2 1 4 1 1]\n",
      " [4 3 2 3 1 4 2 1 5 2]\n",
      " [2 1 1 2 1 2 1 1 2 3]]\n"
     ]
    }
   ],
   "source": [
    "M_right = small_square_binary @ small_square_binary.T\n",
    "M_left = small_square_binary.T @ small_square_binary\n",
    "print(M_right)\n",
    "print(M_left)"
   ]
  },
  {
   "cell_type": "code",
   "execution_count": 69,
   "id": "39bece00-50a0-4040-9f2a-a6457a03f774",
   "metadata": {},
   "outputs": [
    {
     "name": "stdout",
     "output_type": "stream",
     "text": [
      "[[ 0  2 -2 -1  0  3 -1 -4  1 -1]\n",
      " [ 2  4  0  3 -2  4  1 -1  1 -1]\n",
      " [-2  0 -3 -1  1 -1 -1 -1  0 -1]\n",
      " [-1  3 -1 -1  0  0  0  0 -1  0]\n",
      " [ 0 -2  1  0  0  1  1 -1  0 -2]\n",
      " [ 3  4 -1  0  1  3  1  0  2 -1]\n",
      " [-1  1 -1  0  1  1  1  0  0  0]\n",
      " [-4 -1 -1  0 -1  0  0 -2 -2 -1]\n",
      " [ 1  1  0 -1  0  2  0 -2 -1 -1]\n",
      " [-1 -1 -1  0 -2 -1  0 -1 -1 -1]]\n"
     ]
    }
   ],
   "source": []
  },
  {
   "cell_type": "code",
   "execution_count": null,
   "id": "e5bb0e24-d846-49dc-9b19-65d892f713b2",
   "metadata": {},
   "outputs": [],
   "source": []
  }
 ],
 "metadata": {
  "kernelspec": {
   "display_name": "Python 3 (ipykernel)",
   "language": "python",
   "name": "python3"
  },
  "language_info": {
   "codemirror_mode": {
    "name": "ipython",
    "version": 3
   },
   "file_extension": ".py",
   "mimetype": "text/x-python",
   "name": "python",
   "nbconvert_exporter": "python",
   "pygments_lexer": "ipython3",
   "version": "3.13.1"
  }
 },
 "nbformat": 4,
 "nbformat_minor": 5
}
